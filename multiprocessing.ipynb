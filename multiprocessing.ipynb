{
 "cells": [
  {
   "cell_type": "code",
   "execution_count": 1,
   "id": "4b08fe61-2b8b-4e42-b239-564ef4e20fec",
   "metadata": {},
   "outputs": [],
   "source": [
    "#Q1. What is multiprocessing in python? Why is it useful?"
   ]
  },
  {
   "cell_type": "code",
   "execution_count": 4,
   "id": "a502038e-f09f-46d7-9a84-b761ccf339eb",
   "metadata": {},
   "outputs": [],
   "source": [
    "#Multiprocessing in Python is a way to create multiple processes that can execute concurrently, allowing a program to take advantage of multiple CPU cores and improve overall performance. It's useful when:\n",
    "\n",
    "#You need to perform CPU-intensive tasks that can be parallelized.\n",
    "#You want to improve the responsiveness of a program by executing tasks in the background.\n",
    "#You need to handle I/O-bound tasks, such as reading or writing files, network requests, or database queries."
   ]
  },
  {
   "cell_type": "code",
   "execution_count": 5,
   "id": "16287d3c-3eaf-4040-b310-372a1f98445e",
   "metadata": {},
   "outputs": [],
   "source": [
    "#Q2. What are the differences between multiprocessing and multithreading?"
   ]
  },
  {
   "cell_type": "code",
   "execution_count": 6,
   "id": "dcad1ee1-d1dd-4e80-a5cc-e79d1a5f3a0b",
   "metadata": {},
   "outputs": [],
   "source": [
    "#The main differences between multiprocessing and multithreading are:\n",
    "\n",
    "#Processes vs. Threads: Multiprocessing creates separate processes, each with its own memory space, while multithreading creates threads that share the same memory space.\n",
    "#Concurrency: Multiprocessing can take advantage of multiple CPU cores, while multithreading is limited by the Global Interpreter Lock (GIL) in Python, which allows only one thread to execute at a time.\n",
    "#Communication: Multiprocessing requires explicit communication between processes using pipes, queues, or shared memory, while multithreading uses shared memory and synchronization primitives like locks and semaphores.\n",
    "#Overhead: Creating a new process is more expensive than creating a new thread, due to the overhead of creating a new memory space and initializing the process."
   ]
  },
  {
   "cell_type": "code",
   "execution_count": 7,
   "id": "56b50557-2ab9-4671-9edb-8bb256c1d81b",
   "metadata": {},
   "outputs": [],
   "source": [
    "#Q3. Write a python code to create a process using the multiprocessing module."
   ]
  },
  {
   "cell_type": "code",
   "execution_count": 8,
   "id": "26ce7fe6-bb2f-46df-9a00-023137935074",
   "metadata": {},
   "outputs": [
    {
     "name": "stdout",
     "output_type": "stream",
     "text": [
      "Worker 1 started\n",
      "Worker 1 finished\n"
     ]
    }
   ],
   "source": [
    "import multiprocessing\n",
    "\n",
    "def worker(num):\n",
    "    print(f\"Worker {num} started\")\n",
    "    # do some work\n",
    "    print(f\"Worker {num} finished\")\n",
    "\n",
    "if __name__ == '__main__':\n",
    "    p = multiprocessing.Process(target=worker, args=(1,))\n",
    "    p.start()\n",
    "    p.join()"
   ]
  },
  {
   "cell_type": "code",
   "execution_count": 9,
   "id": "8eded3b2-a25f-4d2e-8e00-3f681d8948c8",
   "metadata": {},
   "outputs": [],
   "source": [
    "#Q4. What is a multiprocessing pool in python? Why is it used?"
   ]
  },
  {
   "cell_type": "code",
   "execution_count": 10,
   "id": "29485e4a-66ac-48f7-88c1-5fb42c59237e",
   "metadata": {},
   "outputs": [],
   "source": [
    "#A multiprocessing pool in Python is a group of worker processes that can be used to execute tasks concurrently. It's used to:\n",
    "\n",
    "#Parallelize tasks: Divide a task into smaller subtasks and execute them concurrently using multiple processes.\n",
    "#Improve performance: Take advantage of multiple CPU cores to speed up computationally intensive tasks.\n",
    "#Simplify code: Use a high-level interface to manage a pool of worker processes, without worrying about the details of process creation and communication."
   ]
  },
  {
   "cell_type": "code",
   "execution_count": 11,
   "id": "d903ecae-d1bc-46e8-b038-d33838cd00ac",
   "metadata": {},
   "outputs": [],
   "source": [
    "#Q5. How can we create a pool of worker processes in python using the multiprocessing module?"
   ]
  },
  {
   "cell_type": "code",
   "execution_count": 12,
   "id": "47016d5d-b7e4-481b-8440-b5ee309e1493",
   "metadata": {},
   "outputs": [
    {
     "name": "stdout",
     "output_type": "stream",
     "text": [
      "Worker 0 startedWorker 1 startedWorker 2 startedWorker 3 started\n",
      "\n",
      "\n",
      "\n",
      "Worker 0 finishedWorker 1 finishedWorker 3 finishedWorker 2 finished\n",
      "\n",
      "\n",
      "\n"
     ]
    }
   ],
   "source": [
    "import multiprocessing\n",
    "\n",
    "def worker(num):\n",
    "    print(f\"Worker {num} started\")\n",
    "    # do some work\n",
    "    print(f\"Worker {num} finished\")\n",
    "\n",
    "if __name__ == '__main__':\n",
    "    with multiprocessing.Pool(processes=4) as pool:\n",
    "        pool.map(worker, range(4))"
   ]
  },
  {
   "cell_type": "code",
   "execution_count": 13,
   "id": "b85b0ee6-d422-4404-b34d-6b5a4d098cbe",
   "metadata": {},
   "outputs": [],
   "source": [
    "#Q6. Write a python program to create 4 processes, each process should print a different number using the multiprocessing module in python."
   ]
  },
  {
   "cell_type": "code",
   "execution_count": 14,
   "id": "821dc821-d253-4c35-86a6-1c179bd610e9",
   "metadata": {},
   "outputs": [
    {
     "name": "stdout",
     "output_type": "stream",
     "text": [
      "Process 0 started\n",
      "Process 0 printing: 0\n",
      "\n",
      "Process 1 startedProcess 0 finished\n",
      "Process 1 printing: 1Process 2 started\n",
      "\n",
      "Process 1 finishedProcess 2 printing: 2\n",
      "\n",
      "Process 2 finishedProcess 3 started\n",
      "\n",
      "Process 3 printing: 3\n",
      "Process 3 finished\n"
     ]
    }
   ],
   "source": [
    "import multiprocessing\n",
    "\n",
    "def worker(num):\n",
    "    print(f\"Process {num} started\")\n",
    "    print(f\"Process {num} printing: {num}\")\n",
    "    print(f\"Process {num} finished\")\n",
    "\n",
    "if __name__ == '__main__':\n",
    "    processes = []\n",
    "    for i in range(4):\n",
    "        p = multiprocessing.Process(target=worker, args=(i,))\n",
    "        processes.append(p)\n",
    "        p.start()\n",
    "\n",
    "    for p in processes:\n",
    "        p.join()"
   ]
  },
  {
   "cell_type": "code",
   "execution_count": null,
   "id": "6e9b161f-9c54-4310-a88a-8e298642430e",
   "metadata": {},
   "outputs": [],
   "source": []
  }
 ],
 "metadata": {
  "kernelspec": {
   "display_name": "Python 3 (ipykernel)",
   "language": "python",
   "name": "python3"
  },
  "language_info": {
   "codemirror_mode": {
    "name": "ipython",
    "version": 3
   },
   "file_extension": ".py",
   "mimetype": "text/x-python",
   "name": "python",
   "nbconvert_exporter": "python",
   "pygments_lexer": "ipython3",
   "version": "3.10.8"
  }
 },
 "nbformat": 4,
 "nbformat_minor": 5
}
